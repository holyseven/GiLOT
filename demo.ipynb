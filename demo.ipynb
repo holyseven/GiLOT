{
 "cells": [
  {
   "cell_type": "markdown",
   "metadata": {
    "collapsed": false,
    "pycharm": {
     "name": "#%%\n"
    }
   },
   "source": [
    "## GiLOT"
   ]
  },
  {
   "cell_type": "code",
   "execution_count": null,
   "metadata": {},
   "outputs": [],
   "source": [
    "model_name = \"llama-7b\"\n",
    "beams = 200\n",
    "max_new_tokens = 10"
   ]
  },
  {
   "cell_type": "markdown",
   "metadata": {},
   "source": [
    "### LLM Attributions"
   ]
  },
  {
   "cell_type": "code",
   "execution_count": null,
   "metadata": {},
   "outputs": [],
   "source": [
    "model, tokenizer, block_name, embedding_name, embed_token_name, _, _ = load_model(model_name)\n",
    "interpreter = Interpreter(model, block_name, embedding_name, embed_token_name)\n",
    "template = get_template(model_name)\n",
    "\n",
    "\n",
    "query = \"Give three tips for staying healthy.\"\n",
    "input_text = f\"{template['prefix']}{query.strip()}{template['postfix']}\"\n",
    "inputs = tokenizer(input_text, return_tensors=\"pt\")\n",
    "inputs.to(0)\n",
    "attributions, probs_sequences = interpreter.interpret_ours(inputs.input_ids, args.beams, args.max_new_tokens,\\\n",
    "                                                            \"optimal_transport\")"
   ]
  },
  {
   "cell_type": "markdown",
   "metadata": {},
   "source": [
    "### Visualizations"
   ]
  },
  {
   "cell_type": "code",
   "execution_count": null,
   "metadata": {},
   "outputs": [],
   "source": [
    "from captum.attr import visualization\n",
    "\n",
    "def show_heatmap_on_text(text, text_encoding, R_text):\n",
    "    CLS_idx = text_encoding.argmax(dim=-1)\n",
    "    R_text = R_text[CLS_idx, 1:CLS_idx]\n",
    "    text_scores = R_text / R_text.sum()\n",
    "    text_scores = text_scores.flatten()\n",
    "    text_tokens=_tokenizer.encode(text)\n",
    "    text_tokens_decoded=[tokenizer.decode([a]) for a in text_tokens]\n",
    "    vis_data_records = [visualization.VisualizationDataRecord(text_scores,0,0,0,0,0,text_tokens_decoded,1)]\n",
    "    visualization.visualize_text(vis_data_records)"
   ]
  },
  {
   "cell_type": "code",
   "execution_count": null,
   "metadata": {},
   "outputs": [],
   "source": [
    "show_heatmap_on_text(input_text, inputs.input_ids, attributions)"
   ]
  }
 ],
 "metadata": {
  "kernelspec": {
   "display_name": "Python 3",
   "language": "python",
   "name": "python3"
  },
  "language_info": {
   "codemirror_mode": {
    "name": "ipython",
    "version": 2
   },
   "file_extension": ".py",
   "mimetype": "text/x-python",
   "name": "python",
   "nbconvert_exporter": "python",
   "pygments_lexer": "ipython2",
   "version": "2.7.6"
  }
 },
 "nbformat": 4,
 "nbformat_minor": 0
}
